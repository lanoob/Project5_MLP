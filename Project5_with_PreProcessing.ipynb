{
 "cells": [
  {
   "cell_type": "markdown",
   "metadata": {
    "colab_type": "text",
    "id": "view-in-github"
   },
   "source": [
    "<a href=\"https://colab.research.google.com/github/Jarrydtb/proj5/blob/master/Project5_with_PreProcessing.ipynb\" target=\"_parent\"><img src=\"https://colab.research.google.com/assets/colab-badge.svg\" alt=\"Open In Colab\"/></a>"
   ]
  },
  {
   "cell_type": "code",
   "execution_count": 130,
   "metadata": {
    "colab": {
     "base_uri": "https://localhost:8080/",
     "height": 34.0
    },
    "colab_type": "code",
    "id": "twB1ObSrfo2m",
    "outputId": "47751c6b-7e2b-44b2-800a-74f3c2eeb3ca"
   },
   "outputs": [
    {
     "name": "stdout",
     "output_type": "stream",
     "text": [
      "Drive already mounted at /content/drive; to attempt to forcibly remount, call drive.mount(\"/content/drive\", force_remount=True).\n"
     ]
    }
   ],
   "source": [
    "from google.colab import drive\n",
    "drive.mount('/content/drive')"
   ]
  },
  {
   "cell_type": "code",
   "execution_count": 0,
   "metadata": {
    "colab": {},
    "colab_type": "code",
    "id": "_ZlymTSwrxPE"
   },
   "outputs": [],
   "source": [
    "import keras\n",
    "from keras import optimizers\n",
    "from keras.models import Sequential\n",
    "from keras.layers import Dense, Dropout, Flatten\n",
    "from keras.layers import Conv2D, MaxPooling2D\n",
    "from keras import backend as K\n",
    "import numpy as np\n",
    "from sklearn.utils import shuffle\n",
    "from sklearn.model_selection import train_test_split\n",
    "import pandas as pd\n",
    "import operator\n",
    "from sklearn import preprocessing\n"
   ]
  },
  {
   "cell_type": "code",
   "execution_count": 132,
   "metadata": {
    "colab": {
     "base_uri": "https://localhost:8080/",
     "height": 105.0
    },
    "colab_type": "code",
    "id": "CAwClx-6Dlqb",
    "outputId": "e0af06b9-bd14-4509-cbc1-e506e11794e6"
   },
   "outputs": [
    {
     "name": "stderr",
     "output_type": "stream",
     "text": [
      "/usr/local/lib/python3.6/dist-packages/IPython/core/interactiveshell.py:2718: DtypeWarning: Columns (0,1,2,3,4,5,6,7,8,9,10,11,12,13,14,15,16,17,18,19,20,21,22,23,24,25,26,27,28,29,30,31,32,33,34,35,36,37,38,39,40,41,42,43,44,45,46,47,48,49,50,51,52,53,54,55,56,57,58,59,60,61,62,63,64,65,66,67,68,69,70,71,72,73,74,75,76,77,78,79,80,81,82) have mixed types. Specify dtype option on import or set low_memory=False.\n",
      "  interactivity=interactivity, compiler=compiler, result=result)\n",
      "/usr/local/lib/python3.6/dist-packages/IPython/core/interactiveshell.py:2718: DtypeWarning: Columns (2,4,5,7,8,9,10,11,12,13,14,15,16,17,18,19,20,21,22,23,24,25,26,27,28,29,30,31,32,33,34,35,36,37,38,39,40,41,42,43,44,45,46,47,48,49,50,51,52,53,54,55,56,57,58,59,60,61,62,63,64,65,66,67,68,69,70,71,72,73,74,75,76,77,78,79,80,81,82) have mixed types. Specify dtype option on import or set low_memory=False.\n",
      "  interactivity=interactivity, compiler=compiler, result=result)\n"
     ]
    }
   ],
   "source": [
    "##IMPORT FILE FOR DATA EXTRACTION\n",
    "benign = pd.read_csv(\"/content/drive/Shared drives/Machine Learning Project 5/benign.csv\")\n",
    "malicious = pd.read_csv(\"/content/drive/Shared drives/Machine Learning Project 5/malicious.csv\")"
   ]
  },
  {
   "cell_type": "code",
   "execution_count": 0,
   "metadata": {
    "colab": {},
    "colab_type": "code",
    "id": "YmdXEDB-gX58"
   },
   "outputs": [],
   "source": [
    "#CREATE SINGLE DATAFRAME FOR BOTH THE BENIGN AND MALICIOUS DATA WITH MIXED ROWS\n",
    "benign = benign.sample(frac=0.25,random_state=1)\n",
    "malicious = malicious.sample(frac=0.25,random_state=1)\n",
    "data = [benign,malicious]\n",
    "mixedData = pd.concat(data)"
   ]
  },
  {
   "cell_type": "code",
   "execution_count": 0,
   "metadata": {
    "colab": {},
    "colab_type": "code",
    "id": "Vun2Ja96sKjB"
   },
   "outputs": [],
   "source": [
    "##INSERT SECTION FOR DATA PRE-PROCESSING \n",
    "x = mixedData\n",
    "labels = list(x.columns.values)"
   ]
  },
  {
   "cell_type": "code",
   "execution_count": 0,
   "metadata": {
    "colab": {},
    "colab_type": "code",
    "id": "y_o-zPTqlPkB"
   },
   "outputs": [],
   "source": [
    "X=x.fillna(0)\n",
    "X=X.replace(np.inf, 0)"
   ]
  },
  {
   "cell_type": "code",
   "execution_count": 136,
   "metadata": {
    "colab": {
     "base_uri": "https://localhost:8080/",
     "height": 34.0
    },
    "colab_type": "code",
    "id": "OaOx6bBsHtZx",
    "outputId": "71c5ff92-ea08-4399-dbc0-e0e87aa6dede"
   },
   "outputs": [
    {
     "name": "stdout",
     "output_type": "stream",
     "text": [
      "393727\n"
     ]
    }
   ],
   "source": [
    "print(len(X))"
   ]
  },
  {
   "cell_type": "code",
   "execution_count": 137,
   "metadata": {
    "colab": {
     "base_uri": "https://localhost:8080/",
     "height": 255.0
    },
    "colab_type": "code",
    "id": "QK2R1AhAVjy4",
    "outputId": "6cfdb573-0e66-4e2e-846e-31f92a4cc8f5"
   },
   "outputs": [
    {
     "name": "stdout",
     "output_type": "stream",
     "text": [
      "                                          Flow ID         Src IP  ... Idle Min Label\n",
      "1045953                                         0              0  ...        0   ben\n",
      "358409                                          0              0  ...        0   ben\n",
      "875012                                          0              0  ...        0   ben\n",
      "555046                                          0              0  ...        0   ben\n",
      "272972           1.1.67.181-1.2.120.28-31957-80-6     1.2.120.28  ...        0   ben\n",
      "...                                           ...            ...  ...      ...   ...\n",
      "258342      147.32.84.165-69.30.193.210-1638-25-6  147.32.84.165  ...        0   mal\n",
      "254000     147.32.84.193-173.13.139.154-4760-25-6  147.32.84.193  ...        0   mal\n",
      "97805      147.32.84.165-216.157.130.15-8251-25-6  147.32.84.165  ...        0   mal\n",
      "393111         10.0.2.109-23.63.92.101-52811-80-6     10.0.2.109  ...        0   mal\n",
      "205829   147.32.84.165-67.171.127.111-4248-6667-6  147.32.84.165  ...        0   mal\n",
      "\n",
      "[393727 rows x 84 columns]\n"
     ]
    }
   ],
   "source": [
    "print(X)"
   ]
  },
  {
   "cell_type": "code",
   "execution_count": 0,
   "metadata": {
    "colab": {},
    "colab_type": "code",
    "id": "EpelMcjZnLdU"
   },
   "outputs": [],
   "source": [
    "#IDENTIFY INDEXES OF LABELLED ENTRIES AND REMOVE THEM\n",
    "temp = X.to_numpy()\n",
    "index = []\n",
    "count  = 0 \n",
    "newArray = []\n",
    "for i in temp:\n",
    "  if \"Src Port\" in i:\n",
    "    index.append(count)\n",
    "  count += 1\n",
    "\n",
    "val = 0 \n",
    "for i in temp:\n",
    "  if val not in index:\n",
    "    newArray.append(i)\n",
    "  val += 1"
   ]
  },
  {
   "cell_type": "code",
   "execution_count": 139,
   "metadata": {
    "colab": {
     "base_uri": "https://localhost:8080/",
     "height": 34.0
    },
    "colab_type": "code",
    "id": "SAgCqOA7H5G_",
    "outputId": "ddc63020-a6c0-44a2-833a-7088a1ce15ee"
   },
   "outputs": [
    {
     "name": "stdout",
     "output_type": "stream",
     "text": [
      "393715\n"
     ]
    }
   ],
   "source": [
    "print(len(newArray))"
   ]
  },
  {
   "cell_type": "code",
   "execution_count": 0,
   "metadata": {
    "colab": {},
    "colab_type": "code",
    "id": "2Uy6qBW7n007"
   },
   "outputs": [],
   "source": [
    "#CHECK TO MAKE SURE LABELLED ENTRIES ARE REMOVED\n",
    "count = 0 \n",
    "for i in newArray:\n",
    "  if \"Src Port\" in i:\n",
    "    print(count)\n",
    "  count += 1"
   ]
  },
  {
   "cell_type": "code",
   "execution_count": 141,
   "metadata": {
    "colab": {
     "base_uri": "https://localhost:8080/",
     "height": 34.0
    },
    "colab_type": "code",
    "id": "Xql_LnIKy7kY",
    "outputId": "249e1e10-fd50-40e1-81d5-8dee09405bce"
   },
   "outputs": [
    {
     "name": "stdout",
     "output_type": "stream",
     "text": [
      "393715\n"
     ]
    }
   ],
   "source": [
    "print(len(newArray))"
   ]
  },
  {
   "cell_type": "code",
   "execution_count": 0,
   "metadata": {
    "colab": {},
    "colab_type": "code",
    "id": "ejJCekmAx_t2"
   },
   "outputs": [],
   "source": [
    "array = []\n",
    "for i in newArray:\n",
    "  if 'Infinity' in i:\n",
    "    temp = []\n",
    "    for j in i:\n",
    "      if j == 'Infinity':\n",
    "        temp.append(0)\n",
    "      else:\n",
    "        temp.append(j)\n",
    "    array.append(temp)\n",
    "  else:\n",
    "    array.append(i)\n",
    "newArray = array"
   ]
  },
  {
   "cell_type": "code",
   "execution_count": 143,
   "metadata": {
    "colab": {
     "base_uri": "https://localhost:8080/",
     "height": 34.0
    },
    "colab_type": "code",
    "id": "Q8w_mz25zw8X",
    "outputId": "df275761-517f-4420-dbac-af273976d52e"
   },
   "outputs": [
    {
     "name": "stdout",
     "output_type": "stream",
     "text": [
      "393715\n"
     ]
    }
   ],
   "source": [
    "print(len(newArray))"
   ]
  },
  {
   "cell_type": "code",
   "execution_count": 0,
   "metadata": {
    "colab": {},
    "colab_type": "code",
    "id": "4oKueGDPpSSo"
   },
   "outputs": [],
   "source": [
    "#SLICE 'N DICE\n",
    "#Remove all zeroed entries or entries with no Flow ID \n",
    "new = []\n",
    "for i in newArray:\n",
    "  if i[0] != 0:\n",
    "    new.append(i)\n",
    "newArray = new"
   ]
  },
  {
   "cell_type": "code",
   "execution_count": 145,
   "metadata": {
    "colab": {
     "base_uri": "https://localhost:8080/",
     "height": 34.0
    },
    "colab_type": "code",
    "id": "J918hKBOX81u",
    "outputId": "87a6b75f-e3b8-4308-c83e-b8ccd643d8ec"
   },
   "outputs": [
    {
     "name": "stdout",
     "output_type": "stream",
     "text": [
      "212594\n"
     ]
    }
   ],
   "source": [
    "print(len(newArray))"
   ]
  },
  {
   "cell_type": "code",
   "execution_count": 0,
   "metadata": {
    "colab": {},
    "colab_type": "code",
    "id": "XcQG_FqIsCwk"
   },
   "outputs": [],
   "source": [
    "df = pd.DataFrame(newArray,columns=labels)#Create new DF for data before removal and normalisation \n",
    "## RENAME DF TO X "
   ]
  },
  {
   "cell_type": "code",
   "execution_count": 147,
   "metadata": {
    "colab": {
     "base_uri": "https://localhost:8080/",
     "height": 54.0
    },
    "colab_type": "code",
    "id": "NW2u9YjaKOiU",
    "outputId": "14846e71-b49a-4f05-a126-d6f879331da0"
   },
   "outputs": [
    {
     "name": "stdout",
     "output_type": "stream",
     "text": [
      "['Flow ID', 'Src IP', 'Src Port', 'Dst IP', 'Dst Port', 'Protocol', 'Timestamp', 'Flow Duration', 'Tot Fwd Pkts', 'Tot Bwd Pkts', 'TotLen Fwd Pkts', 'TotLen Bwd Pkts', 'Fwd Pkt Len Max', 'Fwd Pkt Len Min', 'Fwd Pkt Len Mean', 'Fwd Pkt Len Std', 'Bwd Pkt Len Max', 'Bwd Pkt Len Min', 'Bwd Pkt Len Mean', 'Bwd Pkt Len Std', 'Flow Byts/s', 'Flow Pkts/s', 'Flow IAT Mean', 'Flow IAT Std', 'Flow IAT Max', 'Flow IAT Min', 'Fwd IAT Tot', 'Fwd IAT Mean', 'Fwd IAT Std', 'Fwd IAT Max', 'Fwd IAT Min', 'Bwd IAT Tot', 'Bwd IAT Mean', 'Bwd IAT Std', 'Bwd IAT Max', 'Bwd IAT Min', 'Fwd PSH Flags', 'Bwd PSH Flags', 'Fwd URG Flags', 'Bwd URG Flags', 'Fwd Header Len', 'Bwd Header Len', 'Fwd Pkts/s', 'Bwd Pkts/s', 'Pkt Len Min', 'Pkt Len Max', 'Pkt Len Mean', 'Pkt Len Std', 'Pkt Len Var', 'FIN Flag Cnt', 'SYN Flag Cnt', 'RST Flag Cnt', 'PSH Flag Cnt', 'ACK Flag Cnt', 'URG Flag Cnt', 'CWE Flag Count', 'ECE Flag Cnt', 'Down/Up Ratio', 'Pkt Size Avg', 'Fwd Seg Size Avg', 'Bwd Seg Size Avg', 'Fwd Byts/b Avg', 'Fwd Pkts/b Avg', 'Fwd Blk Rate Avg', 'Bwd Byts/b Avg', 'Bwd Pkts/b Avg', 'Bwd Blk Rate Avg', 'Subflow Fwd Pkts', 'Subflow Fwd Byts', 'Subflow Bwd Pkts', 'Subflow Bwd Byts', 'Init Fwd Win Byts', 'Init Bwd Win Byts', 'Fwd Act Data Pkts', 'Fwd Seg Size Min', 'Active Mean', 'Active Std', 'Active Max', 'Active Min', 'Idle Mean', 'Idle Std', 'Idle Max', 'Idle Min', 'Label']\n"
     ]
    }
   ],
   "source": [
    "print(labels)"
   ]
  },
  {
   "cell_type": "code",
   "execution_count": 148,
   "metadata": {
    "colab": {
     "base_uri": "https://localhost:8080/",
     "height": 88.0
    },
    "colab_type": "code",
    "id": "4CqzrlTMtHC4",
    "outputId": "6dc5182f-e17f-4363-a345-29013519437e"
   },
   "outputs": [
    {
     "name": "stdout",
     "output_type": "stream",
     "text": [
      "['Flow ID', 'Src IP', 'Src Port', 'Dst IP', 'Dst Port', 'Protocol', 'Flow Duration', 'Tot Fwd Pkts', 'Tot Bwd Pkts', 'TotLen Fwd Pkts', 'TotLen Bwd Pkts', 'Fwd Pkt Len Max', 'Fwd Pkt Len Min', 'Fwd Pkt Len Mean', 'Fwd Pkt Len Std', 'Bwd Pkt Len Max', 'Bwd Pkt Len Min', 'Bwd Pkt Len Mean', 'Bwd Pkt Len Std', 'Flow Byts/s', 'Flow Pkts/s', 'Flow IAT Mean', 'Flow IAT Std', 'Flow IAT Max', 'Flow IAT Min', 'Fwd IAT Tot', 'Fwd IAT Mean', 'Fwd IAT Std', 'Fwd IAT Max', 'Fwd IAT Min', 'Bwd IAT Tot', 'Bwd IAT Mean', 'Bwd IAT Std', 'Bwd IAT Max', 'Bwd IAT Min', 'Fwd PSH Flags', 'Bwd PSH Flags', 'Fwd URG Flags', 'Bwd URG Flags', 'Fwd Header Len', 'Bwd Header Len', 'Fwd Pkts/s', 'Bwd Pkts/s', 'Pkt Len Min', 'Pkt Len Max', 'Pkt Len Mean', 'Pkt Len Std', 'Pkt Len Var', 'FIN Flag Cnt', 'SYN Flag Cnt', 'RST Flag Cnt', 'PSH Flag Cnt', 'ACK Flag Cnt', 'URG Flag Cnt', 'CWE Flag Count', 'ECE Flag Cnt', 'Down/Up Ratio', 'Pkt Size Avg', 'Fwd Seg Size Avg', 'Bwd Seg Size Avg', 'Fwd Byts/b Avg', 'Fwd Pkts/b Avg', 'Fwd Blk Rate Avg', 'Bwd Byts/b Avg', 'Bwd Pkts/b Avg', 'Bwd Blk Rate Avg', 'Subflow Fwd Pkts', 'Subflow Fwd Byts', 'Subflow Bwd Pkts', 'Subflow Bwd Byts', 'Init Fwd Win Byts', 'Init Bwd Win Byts', 'Fwd Act Data Pkts', 'Fwd Seg Size Min', 'Active Mean', 'Active Std', 'Active Max', 'Active Min', 'Idle Mean', 'Idle Std', 'Idle Max', 'Idle Min', 'Label']\n",
      "Remaining Lables:\n",
      " ['Flow ID', 'Src Port', 'Dst Port', 'Protocol', 'Flow Duration', 'Tot Fwd Pkts', 'Tot Bwd Pkts', 'TotLen Fwd Pkts', 'TotLen Bwd Pkts', 'Fwd Pkt Len Max', 'Fwd Pkt Len Min', 'Fwd Pkt Len Mean', 'Fwd Pkt Len Std', 'Bwd Pkt Len Max', 'Bwd Pkt Len Min', 'Bwd Pkt Len Mean', 'Bwd Pkt Len Std', 'Flow Byts/s', 'Flow Pkts/s', 'Flow IAT Mean', 'Flow IAT Std', 'Flow IAT Max', 'Flow IAT Min', 'Fwd IAT Tot', 'Fwd IAT Mean', 'Fwd IAT Std', 'Fwd IAT Max', 'Fwd IAT Min', 'Bwd IAT Tot', 'Bwd IAT Mean', 'Bwd IAT Std', 'Bwd IAT Max', 'Bwd IAT Min', 'Fwd PSH Flags', 'Bwd PSH Flags', 'Fwd URG Flags', 'Bwd URG Flags', 'Fwd Header Len', 'Bwd Header Len', 'Fwd Pkts/s', 'Bwd Pkts/s', 'Pkt Len Min', 'Pkt Len Max', 'Pkt Len Mean', 'Pkt Len Std', 'Pkt Len Var', 'FIN Flag Cnt', 'SYN Flag Cnt', 'RST Flag Cnt', 'PSH Flag Cnt', 'ACK Flag Cnt', 'URG Flag Cnt', 'CWE Flag Count', 'ECE Flag Cnt', 'Down/Up Ratio', 'Pkt Size Avg', 'Fwd Seg Size Avg', 'Bwd Seg Size Avg', 'Fwd Byts/b Avg', 'Fwd Pkts/b Avg', 'Fwd Blk Rate Avg', 'Bwd Byts/b Avg', 'Bwd Pkts/b Avg', 'Bwd Blk Rate Avg', 'Subflow Fwd Pkts', 'Subflow Fwd Byts', 'Subflow Bwd Pkts', 'Subflow Bwd Byts', 'Init Fwd Win Byts', 'Init Bwd Win Byts', 'Fwd Act Data Pkts', 'Fwd Seg Size Min', 'Active Mean', 'Active Std', 'Active Max', 'Active Min', 'Idle Mean', 'Idle Std', 'Idle Max', 'Idle Min', 'Label']\n"
     ]
    }
   ],
   "source": [
    "##DROP ATTRIBUTES FOR FEATURE SELECTION HERE \n",
    "df1 = df.drop(columns=labels[6]) # Timestamp\n",
    "labels = list(df1.columns.values)\n",
    "print(list(df1.columns.values))\n",
    "df1 = df1.drop(columns=[labels[1],labels[3]]) # IP Addresses\n",
    "labels = list(df1.columns.values)\n",
    "print(\"Remaining Lables:\\n\",labels)"
   ]
  },
  {
   "cell_type": "code",
   "execution_count": 0,
   "metadata": {
    "colab": {},
    "colab_type": "code",
    "id": "ZoqQ2B0Dw3dD"
   },
   "outputs": [],
   "source": [
    "#ids = X[labels[0]]\n",
    "Y = df1[labels[-1]]\n",
    "ids = df1[labels[0]]\n",
    "X1 = df1.drop(columns=labels[0]) # Flow ID --> USE FOR PUTTING DATA TOGETHER FOR TIME SERIES\n",
    "X1 = X1.drop(columns=labels[-1])"
   ]
  },
  {
   "cell_type": "code",
   "execution_count": 0,
   "metadata": {
    "colab": {},
    "colab_type": "code",
    "id": "i1MRwExr6A8n"
   },
   "outputs": [],
   "source": [
    "newY = []\n",
    "for i in Y:\n",
    "  if i == 'ben':\n",
    "    newY.append(0)\n",
    "  else:\n",
    "    newY.append(1)"
   ]
  },
  {
   "cell_type": "code",
   "execution_count": 0,
   "metadata": {
    "colab": {},
    "colab_type": "code",
    "id": "JCjl6aV74f3t"
   },
   "outputs": [],
   "source": [
    "labelsNew = list(X1.columns.values)\n",
    "for col in labelsNew:\n",
    "  X1[col] = pd.to_numeric(X1[col])"
   ]
  },
  {
   "cell_type": "code",
   "execution_count": 219,
   "metadata": {
    "colab": {
     "base_uri": "https://localhost:8080/",
     "height": 221.0
    },
    "colab_type": "code",
    "id": "zylnfovrAb49",
    "outputId": "a0a70811-804b-480a-feeb-fd429f6c112c"
   },
   "outputs": [
    {
     "name": "stdout",
     "output_type": "stream",
     "text": [
      "Src Port         63205.0\n",
      "Dst Port            21.0\n",
      "Protocol             6.0\n",
      "Flow Duration       15.0\n",
      "Tot Fwd Pkts         0.0\n",
      "                  ...   \n",
      "Active Min           0.0\n",
      "Idle Mean            0.0\n",
      "Idle Std             0.0\n",
      "Idle Max             0.0\n",
      "Idle Min             0.0\n",
      "Name: 49559, Length: 79, dtype: float64\n"
     ]
    }
   ],
   "source": [
    "print(X1.iloc[49559])"
   ]
  },
  {
   "cell_type": "code",
   "execution_count": 0,
   "metadata": {
    "colab": {},
    "colab_type": "code",
    "id": "UJp2hKjw4KBY"
   },
   "outputs": [],
   "source": [
    "#NORMALISE DATA\n",
    "# Create a minimum and maximum processor object\n",
    "min_max_scaler = preprocessing.MinMaxScaler()\n",
    "\n",
    "# Create an object to transform the data to fit minmax processor\n",
    "x_scaled = min_max_scaler.fit_transform(X1)\n",
    "\n",
    "# Run the normalizer on the dataframe\n",
    "df_normalized = pd.DataFrame(x_scaled,columns=labelsNew)"
   ]
  },
  {
   "cell_type": "code",
   "execution_count": 0,
   "metadata": {
    "colab": {},
    "colab_type": "code",
    "id": "i8j3P-vij4Mq"
   },
   "outputs": [],
   "source": [
    "newYdf = pd.DataFrame(newY,columns=['Label'])"
   ]
  },
  {
   "cell_type": "code",
   "execution_count": 227,
   "metadata": {
    "colab": {
     "base_uri": "https://localhost:8080/",
     "height": 255.0
    },
    "colab_type": "code",
    "id": "TJ_1jta2-wwN",
    "outputId": "869a6eaf-3983-4c91-f113-7369abb9386c"
   },
   "outputs": [
    {
     "name": "stdout",
     "output_type": "stream",
     "text": [
      "                                         Flow ID  Src Port  ...  Idle Min  Label\n",
      "0               1.1.67.181-1.2.120.28-31957-80-6  0.001221  ...       0.0      0\n",
      "1             1.1.234.194-1.2.209.247-54990-21-6  0.839094  ...       0.0      0\n",
      "2                1.1.15.97-1.2.162.128-6998-21-6  0.000320  ...       0.0      0\n",
      "3              1.1.136.17-1.2.247.160-18535-21-6  0.282826  ...       0.0      0\n",
      "4             1.1.143.211-1.2.67.36-18402-3306-6  0.050446  ...       0.0      0\n",
      "...                                          ...       ...  ...       ...    ...\n",
      "212589     147.32.84.165-69.30.193.210-1638-25-6  0.024994  ...       0.0      1\n",
      "212590    147.32.84.193-173.13.139.154-4760-25-6  0.072633  ...       0.0      1\n",
      "212591    147.32.84.165-216.157.130.15-8251-25-6  0.125902  ...       0.0      1\n",
      "212592        10.0.2.109-23.63.92.101-52811-80-6  0.805844  ...       0.0      1\n",
      "212593  147.32.84.165-67.171.127.111-4248-6667-6  0.064820  ...       0.0      1\n",
      "\n",
      "[212594 rows x 81 columns]\n"
     ]
    }
   ],
   "source": [
    "X = pd.concat([ids,df_normalized,newYdf],axis=1,sort=False) \n",
    "print(X)"
   ]
  },
  {
   "cell_type": "code",
   "execution_count": 0,
   "metadata": {
    "colab": {},
    "colab_type": "code",
    "id": "u_k_X7zrFJ_H"
   },
   "outputs": [],
   "source": [
    "cont = {}\n",
    "for i in X[labels[0]]:\n",
    "  if cont.get(i):\n",
    "    val = cont.get(i)\n",
    "    val = val + 1\n",
    "    cont.update(i = val)\n",
    "  else:\n",
    "    cont[i] = 1 "
   ]
  },
  {
   "cell_type": "code",
   "execution_count": 229,
   "metadata": {
    "colab": {
     "base_uri": "https://localhost:8080/",
     "height": 34.0
    },
    "colab_type": "code",
    "id": "A-fbRKr6ZZQE",
    "outputId": "b14705cc-4dca-4728-d2cf-3cc9ba289a45"
   },
   "outputs": [
    {
     "name": "stdout",
     "output_type": "stream",
     "text": [
      "2\n"
     ]
    }
   ],
   "source": [
    "highestVal = 0 \n",
    "for keys, values in cont.items():\n",
    "  if values > highestVal:\n",
    "    highestVal = values\n",
    "  else:\n",
    "    continue \n",
    "print(highestVal)\n",
    "paddingVal = highestVal\n",
    "numCol = len(X.columns.values) - 1 "
   ]
  },
  {
   "cell_type": "code",
   "execution_count": 230,
   "metadata": {
    "colab": {
     "base_uri": "https://localhost:8080/",
     "height": 68.0
    },
    "colab_type": "code",
    "id": "6ezmjqNVTn0O",
    "outputId": "d52a97a1-747d-4339-ea26-3c2117edcf5c"
   },
   "outputs": [
    {
     "name": "stdout",
     "output_type": "stream",
     "text": [
      "2\n",
      "80\n",
      "212594\n"
     ]
    }
   ],
   "source": [
    "print(paddingVal)\n",
    "print(numCol)\n",
    "print(len(X))"
   ]
  },
  {
   "cell_type": "code",
   "execution_count": 0,
   "metadata": {
    "colab": {},
    "colab_type": "code",
    "id": "qvfSAxb5SwL-"
   },
   "outputs": [],
   "source": [
    "idsUnique = []\n",
    "for keys in cont.keys():\n",
    "  idsUnique.append(keys)"
   ]
  },
  {
   "cell_type": "code",
   "execution_count": 232,
   "metadata": {
    "colab": {
     "base_uri": "https://localhost:8080/",
     "height": 51.0
    },
    "colab_type": "code",
    "id": "X6ZOLqWXT1WC",
    "outputId": "4dc0cadb-be7b-4f4f-df26-5d0398557052"
   },
   "outputs": [
    {
     "name": "stdout",
     "output_type": "stream",
     "text": [
      "CPU times: user 47.7 s, sys: 549 ms, total: 48.2 s\n",
      "Wall time: 48.2 s\n"
     ]
    }
   ],
   "source": [
    "%%time \n",
    "#CREATE INPUT DATA 'IMAGES' #size = 2 x N: N number of columns \n",
    "df_temp = X.groupby(labels[0])\n",
    "grouped = list(list(df_temp)) #List of Dataframes in their respective groups"
   ]
  },
  {
   "cell_type": "code",
   "execution_count": 0,
   "metadata": {
    "colab": {},
    "colab_type": "code",
    "id": "2ctSrknFcA80"
   },
   "outputs": [],
   "source": [
    "images = []\n",
    "for i in grouped:\n",
    "  df_temp = i[1]\n",
    "  images.append(df_temp.iloc[:,1:].values)"
   ]
  },
  {
   "cell_type": "code",
   "execution_count": 237,
   "metadata": {
    "colab": {
     "base_uri": "https://localhost:8080/",
     "height": 51.0
    },
    "colab_type": "code",
    "id": "AHG-6YPe7IwV",
    "outputId": "d9490101-cdb2-45eb-938b-4ff73e1ec317"
   },
   "outputs": [
    {
     "name": "stdout",
     "output_type": "stream",
     "text": [
      "CPU times: user 3.24 s, sys: 42.7 ms, total: 3.28 s\n",
      "Wall time: 3.28 s\n"
     ]
    }
   ],
   "source": [
    "%%time\n",
    "padding = np.full((numCol-1), 0).astype('float')\n",
    "newImages = []\n",
    "for i in images:\n",
    "  flag = i[0][-1]\n",
    "  if flag == 'mal':\n",
    "    flag = 1\n",
    "  else:\n",
    "    flag = 0\n",
    "  NewPad = np.append(padding,[flag])\n",
    "  if len(i) < highestVal:\n",
    "    for j in range(highestVal-len(i)):\n",
    "      if j == 0:  \n",
    "        x = np.append(i,[NewPad],axis=0)\n",
    "      else:\n",
    "        x = np.append(x,[NewPad],axis=0)\n",
    "    newImages.append(x)\n",
    "  else:\n",
    "    newImages.append(i)\n",
    "  count += 1"
   ]
  },
  {
   "cell_type": "code",
   "execution_count": 0,
   "metadata": {
    "colab": {},
    "colab_type": "code",
    "id": "5xTywWZX-wSn"
   },
   "outputs": [],
   "source": [
    "##Seperate Y and X values\n",
    "mainX = []\n",
    "mainY = []\n",
    "for matrix in newImages:\n",
    "  tempMatrix = []\n",
    "  tempY = []\n",
    "  for j in matrix:\n",
    "    tempMatrix.append(j[:-2])\n",
    "    tempY.append(j[-1])\n",
    "  mainX.append(tempMatrix)\n",
    "  mainY.append(tempY[0])"
   ]
  },
  {
   "cell_type": "code",
   "execution_count": 0,
   "metadata": {
    "colab": {},
    "colab_type": "code",
    "id": "lzCeSiGMAOLZ"
   },
   "outputs": [],
   "source": [
    "x_train, x_test, y_train, y_test = train_test_split(X, Y, test_size=0.2) ##ADJUST 'test_size' ACCORDINGLY "
   ]
  },
  {
   "cell_type": "code",
   "execution_count": 0,
   "metadata": {
    "colab": {},
    "colab_type": "code",
    "id": "G-wu_v5eC0Dx"
   },
   "outputs": [],
   "source": [
    "input_shape = x_train.shape ##TODO: GET INPUT SHAPE FROM PRE-PROCESSING STAGE\n",
    "print(x_train.shape)"
   ]
  },
  {
   "cell_type": "code",
   "execution_count": 0,
   "metadata": {
    "colab": {},
    "colab_type": "code",
    "id": "O7lvHir3r9aE"
   },
   "outputs": [],
   "source": [
    "def cnn(x_train, y_train, x_test, y_test):\n",
    "    num_classes = 2\n",
    "    batch_size = 256\n",
    "    y_train = keras.utils.to_categorical(y_train, num_classes)\n",
    "    y_test = keras.utils.to_categorical(y_test, num_classes)\n",
    "    model = Sequential()\n",
    "    model.add(Conv2D(32, kernel_size=(3, 3),\n",
    "                    activation='relu',\n",
    "                    input_shape=input_shape))\n",
    "    model.add(Conv2D(64, (3, 3), activation='relu'))\n",
    "    model.add(MaxPooling2D(pool_size=(2, 2)))\n",
    "    model.add(Dropout(0.25))\n",
    "    model.add(Flatten())\n",
    "    model.add(Dense(128, activation='relu'))\n",
    "    model.add(Dropout(0.5))\n",
    "    model.add(Dense(num_classes, activation='softmax'))\n",
    "\n",
    "    model.compile(loss=keras.losses.categorical_crossentropy,\n",
    "                  optimizer=optimizers.Adam(),\n",
    "                  metrics=['accuracy'])\n",
    "\n",
    "    model.fit(x_train, y_train,\n",
    "              batch_size=batch_size,\n",
    "              epochs=epochs,\n",
    "              verbose=1,\n",
    "              validation_data=(x_test, y_test))\n",
    "    score = model.evaluate(x_test, y_test, verbose=0)\n",
    "    print(model.summary())\n",
    "    print('Test loss:', score[0])\n",
    "    print('Test accuracy:', score[1])"
   ]
  },
  {
   "cell_type": "code",
   "execution_count": 0,
   "metadata": {
    "colab": {},
    "colab_type": "code",
    "id": "KUXmAu9cEFay"
   },
   "outputs": [],
   "source": [
    "def rnn(x_train, y_train, x_test, y_test):\n",
    "  return 0"
   ]
  },
  {
   "cell_type": "code",
   "execution_count": 0,
   "metadata": {
    "colab": {},
    "colab_type": "code",
    "id": "hHhG3W5l72Hk"
   },
   "outputs": [],
   "source": [
    "cnn(x_train, y_train, x_test, y_test)"
   ]
  }
 ],
 "metadata": {
  "accelerator": "TPU",
  "colab": {
   "collapsed_sections": [],
   "include_colab_link": true,
   "machine_shape": "hm",
   "name": "Project5_with_PreProcessing.ipynb",
   "provenance": []
  },
  "kernelspec": {
   "display_name": "Python 3",
   "language": "python",
   "name": "python3"
  },
  "language_info": {
   "codemirror_mode": {
    "name": "ipython",
    "version": 3
   },
   "file_extension": ".py",
   "mimetype": "text/x-python",
   "name": "python",
   "nbconvert_exporter": "python",
   "pygments_lexer": "ipython3",
   "version": "3.7.5"
  }
 },
 "nbformat": 4,
 "nbformat_minor": 1
}
